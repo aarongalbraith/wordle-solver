{
 "cells": [
  {
   "cell_type": "markdown",
   "metadata": {},
   "source": [
    "# Setup\n",
    "## Some items necessary for importing lists"
   ]
  },
  {
   "cell_type": "code",
   "execution_count": 1,
   "metadata": {},
   "outputs": [],
   "source": [
    "import math\n",
    "import statistics\n",
    "from bs4 import BeautifulSoup\n",
    "import requests\n",
    "import pandas as pd\n",
    "max_field_size = 17"
   ]
  },
  {
   "cell_type": "code",
   "execution_count": 2,
   "metadata": {},
   "outputs": [],
   "source": [
    "# this will reverse the letters in a word\n",
    "# this is needed because one of the files was generated with words all in reverse\n",
    "\n",
    "def rev(word):\n",
    "    reverse_word = ''\n",
    "    for i in range(len(word)):\n",
    "        reverse_word = reverse_word + (word[-(i+1)])\n",
    "    return reverse_word"
   ]
  },
  {
   "cell_type": "markdown",
   "metadata": {},
   "source": [
    "# Word lists\n",
    "## Past Wordle words"
   ]
  },
  {
   "cell_type": "code",
   "execution_count": null,
   "metadata": {},
   "outputs": [],
   "source": [
    "html_page = requests.get('https://www.rockpapershotgun.com/wordle-past-answers')\n",
    "soup = BeautifulSoup(html_page.content, 'html.parser')"
   ]
  },
  {
   "cell_type": "code",
   "execution_count": null,
   "metadata": {},
   "outputs": [],
   "source": [
    "wordle_soup = soup.find('div', class_=\"article_body\").findAll('li')\n",
    "soup_size = len(wordle_soup)\n",
    "past_wordle_words = set()\n",
    "for i in range(7):\n",
    "    past_wordle_words.add(str(wordle_soup[i])[-14:-9])\n",
    "\n",
    "for i in range(8, soup_size - 3):\n",
    "    past_wordle_words.add(str(wordle_soup[i])[4:9])\n",
    "\n",
    "len(past_wordle_words)"
   ]
  },
  {
   "cell_type": "markdown",
   "metadata": {},
   "source": [
    "## All Wordle words"
   ]
  },
  {
   "cell_type": "code",
   "execution_count": null,
   "metadata": {},
   "outputs": [],
   "source": [
    "my_file = open(\"all_wordle_words.txt\", \"r\")\n",
    "data = my_file.read()\n",
    "data_into_list = data.replace('\\n', ' ').split(' ')\n",
    "my_file.close()\n",
    "\n",
    "all_wordle_words = set()\n",
    "\n",
    "for word in data_into_list:\n",
    "    if len(word) == 5 and '0' not in word and '1' not in word and '2' not in word:\n",
    "        all_wordle_words.add(word.upper())\n",
    "\n",
    "len(all_wordle_words)"
   ]
  },
  {
   "cell_type": "markdown",
   "metadata": {},
   "source": [
    "## AG words from Evernote\n",
    "### First the original list, which needs editing"
   ]
  },
  {
   "cell_type": "code",
   "execution_count": 3,
   "metadata": {},
   "outputs": [],
   "source": [
    "my_file = open(\"evernote_words_2022_12_07.txt\", \"r\")\n",
    "data = my_file.read()\n",
    "data_into_list = data.replace('\\n', ' ').split(' ')\n",
    "my_file.close()"
   ]
  },
  {
   "cell_type": "code",
   "execution_count": 4,
   "metadata": {},
   "outputs": [],
   "source": [
    "evernote_strings = set()\n",
    "for word in data_into_list:\n",
    "    evernote_strings.add(rev(word))"
   ]
  },
  {
   "cell_type": "code",
   "execution_count": 5,
   "metadata": {},
   "outputs": [
    {
     "data": {
      "text/plain": [
       "1610"
      ]
     },
     "execution_count": 5,
     "metadata": {},
     "output_type": "execute_result"
    }
   ],
   "source": [
    "# words will be a master dictionary consisting of all the words I have personally entered\n",
    "\n",
    "ag_words = set()\n",
    "for word in evernote_strings:\n",
    "    if '-' not in word and len(word) == 10:\n",
    "        for i in range(int(len(word) / 5)):\n",
    "            slim = word[5*i:5*i+5]\n",
    "            if '[' not in slim and ']' not in slim and '_' not in slim:\n",
    "                ag_words.add(slim)\n",
    "    if (len(word) == 5 and\n",
    "    '-' not in word and\n",
    "    '_' not in word and\n",
    "    ',' not in word and\n",
    "    ']' not in word and\n",
    "    '*' not in word):\n",
    "        ag_words.add(word)\n",
    "\n",
    "len(ag_words)"
   ]
  },
  {
   "cell_type": "markdown",
   "metadata": {},
   "source": [
    "## Dictionary words"
   ]
  },
  {
   "cell_type": "code",
   "execution_count": null,
   "metadata": {},
   "outputs": [],
   "source": [
    "# this dictionary is fucked!\n",
    "\n",
    "dic_df = pd.read_csv('dictionary.csv')\n",
    "dic_set = set()\n",
    "for i in range(54554):\n",
    "    dic_set.add(dic_df['A'][i])\n",
    "dic_words = set()\n",
    "for word in dic_set:\n",
    "    if len(word) == 5 and '-' not in word and ' ' not in word:\n",
    "        dic_words.add(word.lower())\n",
    "\n",
    "'Elbow' in dic_set\n",
    "# len(dic_df['A'])\n",
    "# len(dic_set)\n",
    "# len(dic_words)"
   ]
  },
  {
   "cell_type": "markdown",
   "metadata": {},
   "source": [
    "### Then additional words, which do not need editing"
   ]
  },
  {
   "cell_type": "code",
   "execution_count": 6,
   "metadata": {},
   "outputs": [
    {
     "data": {
      "text/plain": [
       "1660"
      ]
     },
     "execution_count": 6,
     "metadata": {},
     "output_type": "execute_result"
    }
   ],
   "source": [
    "my_file = open(\"more_ag_words.txt\", \"r\")\n",
    "data = my_file.read()\n",
    "data_into_list = data.replace('\\n', ' ').split(\" \")\n",
    "my_file.close()\n",
    "\n",
    "for word in data_into_list:\n",
    "    if len(word) == 5:\n",
    "        ag_words.add(word)\n",
    "\n",
    "len(ag_words)"
   ]
  },
  {
   "cell_type": "markdown",
   "metadata": {},
   "source": [
    "# Core functions"
   ]
  },
  {
   "cell_type": "code",
   "execution_count": 7,
   "metadata": {},
   "outputs": [],
   "source": [
    "# this function helps with the mechanics of generating a SCORE\n",
    "# this will replace a letter in a word with another character\n",
    "# this insures that, e.g., for a candidate such as DRILL,\n",
    "# a guess of LADDY would only generate one yellow for D and one yelloe for L\n",
    "\n",
    "def rep(word, place, letter):\n",
    "    return word[0:place] + letter + word[place+1:len(word)]"
   ]
  },
  {
   "cell_type": "code",
   "execution_count": 8,
   "metadata": {},
   "outputs": [],
   "source": [
    "# given a CANDIDATE and a GUESS, this generates the SCORE\n",
    "# a SCORE is a 5 letter sequence of greens, yellows, and blanks\n",
    "\n",
    "def gyb(candidate, guess):\n",
    "    score = '_____'\n",
    "    if len(candidate) != 5:\n",
    "        print('The candidate ' + candidate + ' is not 5 letters long.')\n",
    "        return\n",
    "    elif len(guess) != 5:\n",
    "        print('The guess is not 5 letters long.')\n",
    "        return\n",
    "    for i in range(5):\n",
    "        if guess[i] == candidate[i]:\n",
    "            score = rep(score, i, 'G')\n",
    "            guess = rep(guess, i, '?')\n",
    "            candidate = rep(candidate, i, '_')\n",
    "    for i in range(5):\n",
    "        for j in range(5):\n",
    "            if guess[i] == candidate[j]:\n",
    "                score = rep(score, i, 'Y')\n",
    "                guess = rep(guess, i, '?')\n",
    "                candidate = rep(candidate, j, '_')\n",
    "    return score"
   ]
  },
  {
   "cell_type": "code",
   "execution_count": 9,
   "metadata": {},
   "outputs": [],
   "source": [
    "# this will establish a set of all 3^5 SCOREs of the form GY__Y\n",
    "\n",
    "all_scores = set()\n",
    "for i in range(3**5):\n",
    "    score = ''\n",
    "    num = i\n",
    "    for j in range(5):\n",
    "        if num % 3 == 0:\n",
    "            score = score + '_'\n",
    "        if num % 3 == 1:\n",
    "            score = score + 'G'\n",
    "        if num % 3 == 2:\n",
    "            score = score + 'Y'\n",
    "        num = int(num / 3)\n",
    "    all_scores.add(score)"
   ]
  },
  {
   "cell_type": "code",
   "execution_count": 10,
   "metadata": {},
   "outputs": [],
   "source": [
    "# this takes an average of any list\n",
    "\n",
    "def avg(item):\n",
    "    return statistics.mean(item)"
   ]
  },
  {
   "cell_type": "markdown",
   "metadata": {},
   "source": [
    "# Dealing with Wordle records\n",
    "These functions will explain and establish SCOREBOOKs and GAMESTATEs"
   ]
  },
  {
   "cell_type": "code",
   "execution_count": 11,
   "metadata": {},
   "outputs": [],
   "source": [
    "# this function will take a FIELD of CANDIDATES and a BOOK of GUESSES and return a SCOREBOOK\n",
    "# the SCOREBOOK will have as its entries the GUESSES from the BOOK\n",
    "# each entry in the SCOREBOOK will list all possible SCORES and associate them with a set of CANDIDATES from the FIELD\n",
    "\n",
    "def scorebook(field, book):\n",
    "    scorebook = {}\n",
    "    for guess in book:\n",
    "        scorebook[guess] = {}\n",
    "        for score in all_scores:\n",
    "            scorebook[guess][score] = set()\n",
    "        for candidate in field:\n",
    "            score = gyb(candidate, guess)\n",
    "            scorebook[guess][score].add(candidate)\n",
    "    return scorebook"
   ]
  },
  {
   "cell_type": "code",
   "execution_count": 12,
   "metadata": {},
   "outputs": [],
   "source": [
    "# given a FIELD of CANDIDATES (words that might be the ANSWER),\n",
    "# and a BOOK of GUESSES (words that the player can guess),\n",
    "# ... NOTE: the FIELD and BOOK may or may not be equal ...\n",
    "# this returns a GAMESTATE\n",
    "# a GAMESTATE is an item that contains:\n",
    "# 1) the FIELD\n",
    "# 2) the BOOK\n",
    "# 3) the SCOREBOOK\n",
    "# the SCOREBOOK has ___ levels\n",
    "# level A) it lists the GUESSES in the BOOK\n",
    "# level B) at each GUESS, it lists all SCORES\n",
    "# level C) at each SCORE, it lists each candidate (if any) that would give that SCORE for this GUESS\n",
    "\n",
    "def gamestate(field, book):\n",
    "    gamestate = {}\n",
    "    gamestate['field'] = field\n",
    "    gamestate['book'] = book\n",
    "    gamestate['scorebook'] = scorebook(field, book)\n",
    "    return gamestate"
   ]
  },
  {
   "cell_type": "code",
   "execution_count": 13,
   "metadata": {},
   "outputs": [],
   "source": [
    "master_gamestate = gamestate(ag_words, ag_words)"
   ]
  },
  {
   "cell_type": "code",
   "execution_count": 14,
   "metadata": {},
   "outputs": [],
   "source": [
    "master_scorebook = master_gamestate['scorebook']"
   ]
  },
  {
   "cell_type": "code",
   "execution_count": null,
   "metadata": {},
   "outputs": [],
   "source": [
    "expert_gamestate = gamestate(all_wordle_words, all_wordle_words)"
   ]
  },
  {
   "cell_type": "markdown",
   "metadata": {},
   "source": [
    "# Optimizing Wordle\n",
    "These functions will evaluate the strength of guesses and recommend best guesses"
   ]
  },
  {
   "cell_type": "code",
   "execution_count": null,
   "metadata": {},
   "outputs": [],
   "source": [
    "# given a SCOREBOOK and a GUESS, and given a list of SCORE_SIZES (which may or may not be empty)\n",
    "# this adds more score sizes to that list\n",
    "# and returns the SCORE_SIZES list with the added items\n",
    "\n",
    "def add_score_size_logs(scorebook_guess, score_sizes):\n",
    "    for score in all_scores:\n",
    "        size = len(scorebook_guess[score])\n",
    "        if size > 0:\n",
    "            for candidate in scorebook_guess[score]:\n",
    "                score_sizes.append(math.log(size,2))\n",
    "    return score_sizes    "
   ]
  },
  {
   "cell_type": "code",
   "execution_count": null,
   "metadata": {},
   "outputs": [],
   "source": [
    "# given a GAMESTATE and a GUESS,\n",
    "# this either tells you the GUESS is not in the BOOK or returns the average log subfield size\n",
    "\n",
    "def tellscore(gamestate, guess):\n",
    "    if guess not in gamestate['book']:\n",
    "        return 'This guess is not in the book of eligible guesses'\n",
    "    scorebook = gamestate['scorebook']\n",
    "    return avg(add_score_size_logs(scorebook[guess], []))"
   ]
  },
  {
   "cell_type": "code",
   "execution_count": null,
   "metadata": {},
   "outputs": [],
   "source": [
    "# given a GAMESTATE,\n",
    "# this will select the/a GUESS with the lowest average score size log\n",
    "# this gives preference to GUESSes that belong to the FIELD of CANDIDATES\n",
    "\n",
    "def bestguess(gamestate):\n",
    "    field = gamestate['field']\n",
    "    book = gamestate['book']\n",
    "    scorebook = gamestate['scorebook']\n",
    "    bestguess = ''\n",
    "    lowest_avg = 1000\n",
    "    for guess in book:\n",
    "        guess_avg = tellscore(gamestate, guess)\n",
    "        if guess_avg < lowest_avg or (guess_avg == lowest_avg and guess in field):\n",
    "            bestguess = guess\n",
    "            lowest_avg = guess_avg\n",
    "    return [bestguess, lowest_avg]"
   ]
  },
  {
   "cell_type": "code",
   "execution_count": null,
   "metadata": {},
   "outputs": [],
   "source": [
    "bestguess(master_gamestate)"
   ]
  },
  {
   "cell_type": "code",
   "execution_count": null,
   "metadata": {},
   "outputs": [],
   "source": [
    "# this updates a GAMESTATE after a GUESS has been made, for which a SCORE has been received\n",
    "\n",
    "def new_gamestate(gamestate, guess, score):\n",
    "    new_gs = {}\n",
    "    field = gamestate['scorebook'][guess][score]\n",
    "    new_gs['field'] = field\n",
    "    book = gamestate['book']\n",
    "    new_gs['book'] = book\n",
    "    new_gs['scorebook'] = scorebook(field, book)\n",
    "    return new_gs"
   ]
  },
  {
   "cell_type": "code",
   "execution_count": null,
   "metadata": {},
   "outputs": [],
   "source": [
    "def nextguess(gs_0, guess_list, score_list):\n",
    "    \n",
    "    score_list = score_list.replace(' ', '')\n",
    "    if len(score_list) %5 != 0:\n",
    "        return 'One of the scores is the wrong length'\n",
    "    else:\n",
    "        score_count = int(len(score_list) / 5)\n",
    "        \n",
    "    guess_list = guess_list.replace(' ', '')\n",
    "    if len(guess_list) %5 != 0:\n",
    "        return 'One of the guesses is the wrong length'\n",
    "    else:\n",
    "        guess_count = int(len(guess_list) / 5)\n",
    "    \n",
    "    if guess_count > score_count:\n",
    "        return 'There are too many guesses'\n",
    "    \n",
    "    gs = gs_0\n",
    "\n",
    "    for turn in range(score_count):\n",
    "        guess = guess_list[(5*turn) : (5*turn) + 5]\n",
    "        if guess == '':\n",
    "            guess = bestguess(gs)[0]\n",
    "        score = score_list[(5*turn) : (5*turn) + 5]\n",
    "        if score not in gs['scorebook'][guess]:\n",
    "            return score + ' is not in the scorebook'\n",
    "        elif len(gs['scorebook'][guess][score]) == 0:\n",
    "            return 'There are no candidates corresponding to these scores'\n",
    "        else:\n",
    "            gs = new_gamestate(gs, guess, score)\n",
    "\n",
    "    field = gs['field']\n",
    "    if len(field) > max_field_size:\n",
    "        print('The field has ' + str(len(field)) + ' candidates')\n",
    "    else:\n",
    "        print('The field of candidates is')\n",
    "        print(field)\n",
    "\n",
    "    print('The recommended next guess is ' + bestguess(gs)[0])"
   ]
  },
  {
   "cell_type": "code",
   "execution_count": null,
   "metadata": {
    "scrolled": true
   },
   "outputs": [],
   "source": [
    "nextguess(expert_gamestate, '', '_____')"
   ]
  },
  {
   "cell_type": "markdown",
   "metadata": {},
   "source": [
    "# Assessing what's missing"
   ]
  },
  {
   "cell_type": "code",
   "execution_count": null,
   "metadata": {},
   "outputs": [],
   "source": [
    "ag_scorebook = scorebook(ag_words, ['STERN'])['STERN']\n",
    "official_scorebook = scorebook(all_wordle_words, ['STERN'])['STERN']\n",
    "score_compare = {}\n",
    "not_words = set()\n",
    "for score in all_scores:\n",
    "    score_compare[score] = len(official_scorebook[score]) - len(ag_scorebook[score])\n",
    "    if score_compare[score] > 5:\n",
    "        print(score + ' is missing ' + str(score_compare[score]) + ' words')"
   ]
  },
  {
   "cell_type": "code",
   "execution_count": null,
   "metadata": {},
   "outputs": [],
   "source": [
    "for word in ag_words:\n",
    "    if word not in all_wordle_words:\n",
    "        not_words.add(word)\n",
    "not_words"
   ]
  },
  {
   "cell_type": "code",
   "execution_count": null,
   "metadata": {},
   "outputs": [],
   "source": [
    "len(not_words)"
   ]
  },
  {
   "cell_type": "code",
   "execution_count": null,
   "metadata": {},
   "outputs": [],
   "source": [
    "missing_logs = set()\n",
    "for word in past_wordle_words:\n",
    "    score = gyb(word, 'STERN')\n",
    "    field = master_scorebook['STERN'][score]\n",
    "    if len(field) == 0:\n",
    "        missing_logs.add(score)\n",
    "for log in missing_logs:\n",
    "    print(log)"
   ]
  },
  {
   "cell_type": "markdown",
   "metadata": {},
   "source": [
    "# Dealing with Quordle records\n",
    "Some tweaks may be needed to deal with Quordle"
   ]
  },
  {
   "cell_type": "markdown",
   "metadata": {},
   "source": [
    "# Optimizing Quordle"
   ]
  },
  {
   "cell_type": "code",
   "execution_count": null,
   "metadata": {},
   "outputs": [],
   "source": [
    "def nextguess_q(gs_0, guess_list, score_list):\n",
    "    score_count = []\n",
    "    for i in range(len(score_list)):\n",
    "        score_list[i] = score_list[i].replace(' ', '')\n",
    "        if len(score_list[i]) %5 != 0:\n",
    "            return 'One of the scores is the wrong length'\n",
    "        else:\n",
    "            score_count.append(int(len(score_list[i]) / 5))\n",
    "\n",
    "    guess_list = guess_list.replace(' ', '')\n",
    "    if len(guess_list) %5 != 0:\n",
    "        return 'One of the guesses is the wrong length'\n",
    "    else:\n",
    "        guess_count = int(len(guess_list) / 5)\n",
    "\n",
    "    turns = max(score_count)\n",
    "\n",
    "    if guess_count != turns:\n",
    "        return 'The number of guesses needs to match the maximum number of scores'\n",
    "\n",
    "    gs = [gs_0, gs_0, gs_0, gs_0]\n",
    "    still_active = [True, True, True, True]\n",
    "\n",
    "    for i in range(len(score_list)):\n",
    "\n",
    "        if score_count[i] == turns:\n",
    "\n",
    "            for turn in range(turns):\n",
    "                guess = guess_list[(5*turn) : (5*turn) + 5]\n",
    "                score = score_list[i][(5*turn) : (5*turn) + 5]\n",
    "                if score not in gs[i]['scorebook'][guess]:\n",
    "                    return score + ' is not in the scorebook'\n",
    "                elif len(gs[i]['scorebook'][guess][score]) == 0:\n",
    "                    return 'There are no candidates corresponding to these scores'\n",
    "                else:\n",
    "                    gs[i] = new_gamestate(gs_0, guess, score)\n",
    "\n",
    "            print('Board #' + str(i + 1))\n",
    "            if len(gs[i]['field']) > max_field_size:\n",
    "                print('The field has ' + str(len(gs[i]['field'])) + ' candidates')\n",
    "            else:\n",
    "                print('The field of candidates is')\n",
    "                print(gs[i]['field'])\n",
    "            print('The recommended next guess is ' + bestguess(gs[i])[0])\n",
    "\n",
    "        else:\n",
    "            still_active[i] = False"
   ]
  }
 ],
 "metadata": {
  "kernelspec": {
   "display_name": "Python 3",
   "language": "python",
   "name": "python3"
  },
  "language_info": {
   "codemirror_mode": {
    "name": "ipython",
    "version": 3
   },
   "file_extension": ".py",
   "mimetype": "text/x-python",
   "name": "python",
   "nbconvert_exporter": "python",
   "pygments_lexer": "ipython3",
   "version": "3.8.5"
  }
 },
 "nbformat": 4,
 "nbformat_minor": 4
}
